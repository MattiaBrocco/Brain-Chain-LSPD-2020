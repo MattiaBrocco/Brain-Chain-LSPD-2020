{
 "cells": [
  {
   "cell_type": "code",
   "execution_count": 32,
   "metadata": {
    "ExecuteTime": {
     "end_time": "2020-11-30T10:47:34.997865Z",
     "start_time": "2020-11-30T10:47:34.742019Z"
    }
   },
   "outputs": [],
   "source": [
    "import requests\n",
    "import json\n",
    "import pandas as pd"
   ]
  },
  {
   "cell_type": "code",
   "execution_count": 44,
   "metadata": {
    "ExecuteTime": {
     "end_time": "2020-11-30T10:50:46.373928Z",
     "start_time": "2020-11-30T10:50:46.367915Z"
    }
   },
   "outputs": [],
   "source": [
    "def artists_songs(artist, title):\n",
    "    urlss = \"http://www.songsterr.com/a/ra/songs.json?pattern={}\"\n",
    "    urlss_f = urlss.format(artist)\n",
    "    reqss = requests.get(urlss_f)\n",
    "    datass = json.loads(reqss.text)\n",
    "    \n",
    "    if len(datass) == 0:\n",
    "        print(\"Artist not found\")\n",
    "    else:\n",
    "        tabs_url = \"http://www.songsterr.com/a/wa/bestMatchForQueryString?s={}&a={}\"\n",
    "        # Whitespaces are replaced with \"%20\" as required by the API\n",
    "        # in order to make the link exploitable\n",
    "        url_format =  tabs_url.format(title.replace(\" \", \"%20\"), artist.replace(\" \", \"%20\"))\n",
    "        print(\"Link to tabs:\", url_format,\"\\n\\n\")\n",
    "        print(\"Some songs from *{}* you might be interested in\".format(artist))\n",
    "        \n",
    "        nl = [(x[\"title\"], len(x[\"tabTypes\"]))\n",
    "              for x in datass if x[\"chordsPresent\"] == True]\n",
    "        nl.sort(key = lambda x:x[1], reverse = True)\n",
    "        df = pd.DataFrame({\"---------------\": [ x[0] for x in nl ]})\n",
    "        #df = pd.DataFrame(nl, columns= [\"Other songs from the same artist\"])\n",
    "        \n",
    "        #for x in nl[:10]:\n",
    "            #print(x[0])\n",
    "        print(df)\n",
    "    return None"
   ]
  },
  {
   "cell_type": "code",
   "execution_count": 45,
   "metadata": {
    "ExecuteTime": {
     "end_time": "2020-11-30T10:50:47.044930Z",
     "start_time": "2020-11-30T10:50:46.655419Z"
    }
   },
   "outputs": [
    {
     "output_type": "stream",
     "name": "stdout",
     "text": [
      "Link to tabs: http://www.songsterr.com/a/wa/bestMatchForQueryString?s=airplanes&a=b.o.b. \n\n\nSome songs from *b.o.b.* you might be interested in\n  ---------------\n0       Airplanes\n1   Nothin On You\n2           Bolle\n"
     ]
    }
   ],
   "source": [
    "artists_songs(\"b.o.b.\",\"airplanes\")"
   ]
  },
  {
   "cell_type": "code",
   "execution_count": null,
   "metadata": {},
   "outputs": [],
   "source": []
  }
 ],
 "metadata": {
  "kernelspec": {
   "display_name": "Python 3",
   "language": "python",
   "name": "python3"
  },
  "language_info": {
   "codemirror_mode": {
    "name": "ipython",
    "version": 3
   },
   "file_extension": ".py",
   "mimetype": "text/x-python",
   "name": "python",
   "nbconvert_exporter": "python",
   "pygments_lexer": "ipython3",
   "version": "3.8.3-final"
  }
 },
 "nbformat": 4,
 "nbformat_minor": 4
}