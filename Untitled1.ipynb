{
 "cells": [
  {
   "cell_type": "code",
   "execution_count": 14,
   "metadata": {},
   "outputs": [],
   "source": [
    "import requests\n",
    "import json\n",
    "\n",
    "url = 'https://searchly.asuarez.dev/api/v1/song/search/{}'\n",
    "\n",
    "def get_song (artist):\n",
    "    URL = url.format(artist)\n",
    "\n",
    "    r = requests.get(URL)\n",
    "    data = json.loads(r.text)\n",
    "\n",
    "    \"\"\" try:\n",
    "        song = data['title']\n",
    "    except TypeError:\n",
    "        pass\n",
    "    \"\"\"\n",
    "    return data"
   ]
  },
  {
   "cell_type": "code",
   "execution_count": 15,
   "metadata": {},
   "outputs": [
    {
     "name": "stdout",
     "output_type": "stream",
     "text": [
      "{'error': True, 'message': 'Not found.'}\n"
     ]
    }
   ],
   "source": [
    "artist = 'Miley Cyrus'\n",
    "\n",
    "song = get_title(artist)\n",
    "\n",
    "print(song)"
   ]
  },
  {
   "cell_type": "code",
   "execution_count": 16,
   "metadata": {},
   "outputs": [],
   "source": [
    "# Make sure you have installed the required packages:\n",
    "#   pip install requests\n",
    "\n",
    "import requests\n",
    "\n",
    "url = 'https://searchly.asuarez.dev/api/v1/song/search'\n",
    "payload = {'query': 'QUERY'}\n",
    "\n",
    "# Make the classify request\n",
    "response = requests.get(url, params=payload)\n",
    "\n",
    "# The response is formatted in JSON\n",
    "json_response = response.json()\n"
   ]
  },
  {
   "cell_type": "code",
   "execution_count": 11,
   "metadata": {},
   "outputs": [],
   "source": [
    "query = 'Miley Cyrus'"
   ]
  },
  {
   "cell_type": "code",
   "execution_count": 19,
   "metadata": {},
   "outputs": [
    {
     "name": "stdout",
     "output_type": "stream",
     "text": [
      "{'error': False, 'response': {'results': []}}\n"
     ]
    }
   ],
   "source": [
    "print(json_response)"
   ]
  },
  {
   "cell_type": "code",
   "execution_count": null,
   "metadata": {},
   "outputs": [],
   "source": []
  }
 ],
 "metadata": {
  "kernelspec": {
   "display_name": "Python 3",
   "language": "python",
   "name": "python3"
  },
  "language_info": {
   "codemirror_mode": {
    "name": "ipython",
    "version": 3
   },
   "file_extension": ".py",
   "mimetype": "text/x-python",
   "name": "python",
   "nbconvert_exporter": "python",
   "pygments_lexer": "ipython3",
   "version": "3.8.3"
  }
 },
 "nbformat": 4,
 "nbformat_minor": 4
}
