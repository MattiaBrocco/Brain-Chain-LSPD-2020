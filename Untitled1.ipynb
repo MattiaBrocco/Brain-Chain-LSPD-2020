{
 "cells": [
  {
   "cell_type": "code",
   "execution_count": 90,
   "metadata": {},
   "outputs": [],
   "source": [
    "# Make sure you have installed the required packages:\n",
    "#   pip install requests\n",
    "\n",
    "import requests\n",
    "\n",
    "url = 'https://searchly.asuarez.dev/api/v1/song/search'\n",
    "payload = {'query': 'Paparazzi'}\n",
    "\n",
    "# Make the classify request\n",
    "response = requests.get(url, params=payload)\n",
    "\n",
    "# The response is formatted in JSON\n",
    "json_response = response.json()"
   ]
  },
  {
   "cell_type": "code",
   "execution_count": 91,
   "metadata": {},
   "outputs": [],
   "source": [
    "#QUERY = 'Paparazzi'"
   ]
  },
  {
   "cell_type": "code",
   "execution_count": 92,
   "metadata": {},
   "outputs": [
    {
     "name": "stdout",
     "output_type": "stream",
     "text": [
      "{'error': False, 'response': {'results': [{'id': 67782, 'name': 'chance, greyson - paparazzi'}, {'id': 69691, 'name': 'chris webby - paparazzi'}, {'id': 60235, 'name': \"jeffree star - prisoner (god's paparazzi remix)\"}]}}\n"
     ]
    }
   ],
   "source": [
    "print(json_response)"
   ]
  },
  {
   "cell_type": "code",
   "execution_count": 93,
   "metadata": {},
   "outputs": [
    {
     "name": "stdout",
     "output_type": "stream",
     "text": [
      "Lady Gaga\n"
     ]
    }
   ],
   "source": [
    "print(\"{}\".format(query))\n"
   ]
  },
  {
   "cell_type": "code",
   "execution_count": null,
   "metadata": {},
   "outputs": [],
   "source": []
  }
 ],
 "metadata": {
  "kernelspec": {
   "display_name": "Python 3",
   "language": "python",
   "name": "python3"
  },
  "language_info": {
   "codemirror_mode": {
    "name": "ipython",
    "version": 3
   },
   "file_extension": ".py",
   "mimetype": "text/x-python",
   "name": "python",
   "nbconvert_exporter": "python",
   "pygments_lexer": "ipython3",
   "version": "3.8.3"
  }
 },
 "nbformat": 4,
 "nbformat_minor": 4
}
