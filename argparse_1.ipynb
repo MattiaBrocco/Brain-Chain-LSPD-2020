{
 "cells": [
  {
   "cell_type": "code",
   "execution_count": null,
   "metadata": {},
   "outputs": [],
   "source": [
    "import argparse"
   ]
  },
  {
   "cell_type": "code",
   "execution_count": null,
   "metadata": {},
   "outputs": [],
   "source": [
    "def check_output (verbosity,output): \n",
    "    #This function defines \n",
    "    # :param verbosity: the level of verbosity required by the user\n",
    "    if verbosity is True and output is True:\n",
    "        print('artist:{}, title:{}'.format(artist,title)')\n",
    "    elif verbosity is True and output is False:\n",
    "        print('Try with another song')\n",
    "    elif verbosity is False and output is True:\n",
    "        print('artist:{}'.format(artist))\n",
    "    elif verbosity is False and output is False:\n",
    "        print('Something wrong, try with other parameters')\n",
    "              \n",
    "    return check_output"
   ]
  },
  {
   "cell_type": "code",
   "execution_count": null,
   "metadata": {},
   "outputs": [],
   "source": [
    "def parsing_input():\n",
    "    #Parsing the input for our program.\n",
    "    #This function requires two positional arguments\n",
    "    \n",
    "    parser = argparse.ArgumentParser()\n",
    "    #positional arguments\n",
    "    parser.add_argument(\"artist\", help='the arstist of song you are searching for')\n",
    "    parser.add_argument(\"title\", help='the title of the song you are searching for')\n",
    "    \n",
    "    #optional arguments\n",
    "    parser.add_argument(\"verbosity\", help='increases verbosity of the program')\n",
    "    args = parser.parse_args()\n",
    "    return args\n",
    "\n"
   ]
  }
 ],
 "metadata": {
  "kernelspec": {
   "display_name": "Python 3",
   "language": "python",
   "name": "python3"
  },
  "language_info": {
   "codemirror_mode": {
    "name": "ipython",
    "version": 3
   },
   "file_extension": ".py",
   "mimetype": "text/x-python",
   "name": "python",
   "nbconvert_exporter": "python",
   "pygments_lexer": "ipython3",
   "version": "3.7.6"
  }
 },
 "nbformat": 4,
 "nbformat_minor": 4
}
