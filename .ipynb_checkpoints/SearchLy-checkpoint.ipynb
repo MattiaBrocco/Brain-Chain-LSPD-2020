{
 "cells": [
  {
   "cell_type": "code",
   "execution_count": 1,
   "metadata": {
    "ExecuteTime": {
     "end_time": "2020-11-30T15:15:30.545640Z",
     "start_time": "2020-11-30T15:15:25.120529Z"
    }
   },
   "outputs": [],
   "source": [
    "import json\n",
    "import requests\n",
    "import pandas as pd"
   ]
  },
  {
   "cell_type": "code",
   "execution_count": 25,
   "metadata": {
    "ExecuteTime": {
     "end_time": "2020-11-30T15:38:41.535075Z",
     "start_time": "2020-11-30T15:38:41.515281Z"
    }
   },
   "outputs": [],
   "source": [
    "def similarity(artist, title):\n",
    "    song = title\n",
    "    url = 'https://searchly.asuarez.dev/api/v1/song/search'\n",
    "\n",
    "    # Make the classify request\n",
    "    response = requests.get(url, params = {'query': song})\n",
    "\n",
    "    # The response is formatted in JSON\n",
    "    data = json.loads(response.text)\n",
    "    if data[\"error\"] == True:\n",
    "        print(\"Error in the request\")\n",
    "    else:\n",
    "        if len(data[\"response\"][\"results\"]) < 1:\n",
    "            # This is the case when the request is successful, but empty\n",
    "            print(\"Similars song not found\")\n",
    "        elif len(data[\"response\"][\"results\"]) > 1:\n",
    "            # If more than one result is found, we must let\n",
    "            # the user choose what to do by showing all the found results\n",
    "            print(\"We couldn't find songs similar to your search,\",\n",
    "                  \"our suggestions are:\", sep=\"\\n\", end = \"\\n\\n\" )\n",
    "            for x in data[\"response\"][\"results\"]:\n",
    "                print( x[\"name\"] )\n",
    "        else:\n",
    "            # If only one result is found, with a certain degree\n",
    "            # of confidence, this is the right song!\n",
    "            song_id = data[\"response\"][\"results\"][0][\"id\"]\n",
    "            \n",
    "            # The API that looks for similar songs works with a song ID,\n",
    "            # retrieved the previous line of code\n",
    "            sim_url = 'https://searchly.asuarez.dev/api/v1/similarity/by_song'\n",
    "            sim_payload = {'song_id': song_id}\n",
    "\n",
    "            sim_response = requests.get(sim_url, params = sim_payload)\n",
    "\n",
    "            sim_data = json.loads(sim_response.text)\n",
    "            print(\"Listen to similar songs:\\n\")\n",
    "            \n",
    "            df = pd.DataFrame({\"Title\":[x[\"song_name\"] for x in sim_data[\"response\"][\"similarity_list\"]],\n",
    "                               \"Artist\":[x[\"artist_name\"] for x in sim_data[\"response\"][\"similarity_list\"]],\n",
    "                               \"Similarity\":[x[\"percentage\"] for x in sim_data[\"response\"][\"similarity_list\"]]})\n",
    "            print(df)\n",
    "    return True"
   ]
  },
  {
   "cell_type": "code",
   "execution_count": 26,
   "metadata": {
    "ExecuteTime": {
     "end_time": "2020-11-30T15:38:44.560198Z",
     "start_time": "2020-11-30T15:38:41.757492Z"
    }
   },
   "outputs": [
    {
     "name": "stdout",
     "output_type": "stream",
     "text": [
      "Listen to similar songs:\n",
      "\n",
      "                      Title                Artist  Similarity\n",
      "0  don't know what it means  tedeschi trucks band       95.08\n",
      "1             father to son         collins, phil       94.87\n",
      "2     first comes the night          isaak, chris       94.78\n",
      "3    the walls of the world           katie melua       94.65\n",
      "4                lights out           angel olsen       94.55\n",
      "5                     ghost                aquilo       94.53\n",
      "6              heartstrings         anthony david       94.48\n",
      "7     coming from the heart                   n2u       94.46\n",
      "8      you're gonna make it                 kj-52       94.46\n",
      "9             everyday hero          luke benward       94.46\n"
     ]
    }
   ],
   "source": [
    "sid = similarity(\"chris webby\", \"wonderwall\")"
   ]
  }
 ],
 "metadata": {
  "kernelspec": {
   "display_name": "Python 3",
   "language": "python",
   "name": "python3"
  },
  "language_info": {
   "codemirror_mode": {
    "name": "ipython",
    "version": 3
   },
   "file_extension": ".py",
   "mimetype": "text/x-python",
   "name": "python",
   "nbconvert_exporter": "python",
   "pygments_lexer": "ipython3",
   "version": "3.7.6"
  }
 },
 "nbformat": 4,
 "nbformat_minor": 4
}
