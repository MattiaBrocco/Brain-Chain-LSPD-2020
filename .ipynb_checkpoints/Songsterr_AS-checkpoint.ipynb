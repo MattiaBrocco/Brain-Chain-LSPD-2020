{
 "cells": [
  {
   "cell_type": "code",
   "execution_count": 1,
   "metadata": {
    "ExecuteTime": {
     "end_time": "2020-11-30T10:47:34.997865Z",
     "start_time": "2020-11-30T10:47:34.742019Z"
    }
   },
   "outputs": [],
   "source": [
    "import requests\n",
    "import json"
   ]
  },
  {
   "cell_type": "code",
   "execution_count": 14,
   "metadata": {
    "ExecuteTime": {
     "end_time": "2020-11-30T10:50:46.373928Z",
     "start_time": "2020-11-30T10:50:46.367915Z"
    }
   },
   "outputs": [],
   "source": [
    "def artists_songs(title, artist):\n",
    "    urlss = \"http://www.songsterr.com/a/ra/songs.json?pattern={}\"\n",
    "    urlss_f = urlss.format(artist)\n",
    "    reqss = requests.get(urlss_f)\n",
    "    datass = json.loads(reqss.text)\n",
    "    \n",
    "    if len(datass) == 0:\n",
    "        print(\"Artist not found\")\n",
    "    else:\n",
    "        tabs_url = \"http://www.songsterr.com/a/wa/bestMatchForQueryString?s={}&a={}\"\n",
    "        # Whitespaces are replaced with \"%20\" as required by the API\n",
    "        # in order to make the link exploitable\n",
    "        url_format =  tabs_url.format(title.replace(\" \", \"%20\"), artist.replace(\" \", \"%20\"))\n",
    "        print(\"Link to tabs:\", url_format,\"\\n\\n\")\n",
    "        print(\"Some songs from *{}* you might be interested in\".format(artist))\n",
    "        nl = [(x[\"title\"], len(x[\"tabTypes\"]))\n",
    "              for x in datass if x[\"chordsPresent\"] == True]\n",
    "        nl.sort(key = lambda x:x[1], reverse = True)\n",
    "        for x in nl[:10]:\n",
    "            print(x[0])\n",
    "    return None"
   ]
  },
  {
   "cell_type": "code",
   "execution_count": 15,
   "metadata": {
    "ExecuteTime": {
     "end_time": "2020-11-30T10:50:47.044930Z",
     "start_time": "2020-11-30T10:50:46.655419Z"
    }
   },
   "outputs": [
    {
     "name": "stdout",
     "output_type": "stream",
     "text": [
      "Link to tabs: http://www.songsterr.com/a/wa/bestMatchForQueryString?s=airplanes&a=b.o.b. \n",
      "\n",
      "\n",
      "Some songs from *b.o.b.* you might be interested in\n",
      "Airplanes\n",
      "Nothin On You\n",
      "Bolle\n"
     ]
    }
   ],
   "source": [
    "artists_songs(\"airplanes\",\"b.o.b.\")"
   ]
  }
 ],
 "metadata": {
  "kernelspec": {
   "display_name": "Python 3",
   "language": "python",
   "name": "python3"
  },
  "language_info": {
   "codemirror_mode": {
    "name": "ipython",
    "version": 3
   },
   "file_extension": ".py",
   "mimetype": "text/x-python",
   "name": "python",
   "nbconvert_exporter": "python",
   "pygments_lexer": "ipython3",
   "version": "3.7.6"
  }
 },
 "nbformat": 4,
 "nbformat_minor": 4
}
