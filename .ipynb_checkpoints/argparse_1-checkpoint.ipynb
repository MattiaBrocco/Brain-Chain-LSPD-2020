{
 "cells": [
  {
   "cell_type": "code",
   "execution_count": 1,
   "metadata": {
    "ExecuteTime": {
     "end_time": "2020-11-30T16:50:24.965178Z",
     "start_time": "2020-11-30T16:50:24.958176Z"
    }
   },
   "outputs": [],
   "source": [
    "import argparse\n",
    "from Lyrics import get_lyric"
   ]
  },
  {
   "cell_type": "code",
   "execution_count": null,
   "metadata": {},
   "outputs": [],
   "source": [
    "def parsing_input():\n",
    "    #Parsing the input for our program.\n",
    "    #This function requires two positional arguments\n",
    "    \n",
    "    parser = argparse.ArgumentParser()\n",
    "    #positional arguments\n",
    "    parser.add_argument(\"artist\", help='the arstist of song you are searching for')\n",
    "    parser.add_argument(\"title\", help='the title of the song you are searching for')\n",
    "    \n",
    "    #optional arguments\n",
    "    parser.add_argument(\"-verbosity\",\n",
    "                        help='increases verbosity of the program',\n",
    "                        default=False)\n",
    "    args = parser.parse_args()\n",
    "    return args\n",
    "\n",
    "\n",
    "# the following code gives the value of the stock price of the input companies\n",
    "\n",
    "try:\n",
    "    args= parsing_input()\n",
    "    song_l = Lyrics.get_lyric(args.artist, args.title)\n",
    "    if args.verbosity: # verbosity = False\n",
    "        print(\"{}\".format(song_l))\n",
    "    else:\n",
    "        print(\"This is {} by {}:\".format(a2, a1))\n",
    "        print(\"{}\".format(song_l))\n",
    "\n",
    "#this code helps the user to check if he wrote correctly the inputs\n",
    "except:\n",
    "    if len(sys.argv)>2:\n",
    "        print(\"Use underscores (_) instead of spaces\")\n",
    "        exit()\n",
    "    else:\n",
    "        exit()"
   ]
  },
  {
   "cell_type": "code",
   "execution_count": null,
   "metadata": {},
   "outputs": [],
   "source": [
    "def check_output(verbosity,output): \n",
    "    #This function defines \n",
    "    # :param verbosity: the level of verbosity required by the user\n",
    "    if verbosity is True and output is True:\n",
    "        print('artist:{}, title:{}'.format(artist, title)\n",
    "    elif verbosity is True and output is False:\n",
    "        print('Try with another song')\n",
    "    elif verbosity is False and output is True:\n",
    "        print('artist:{}'.format(artist))\n",
    "    elif verbosity is False and output is False:\n",
    "        print('Something wrong, try with other parameters')\n",
    "              \n",
    "    return check_output"
   ]
  },
  {
   "cell_type": "code",
   "execution_count": null,
   "metadata": {},
   "outputs": [],
   "source": []
  }
 ],
 "metadata": {
  "kernelspec": {
   "display_name": "Python 3",
   "language": "python",
   "name": "python3"
  },
  "language_info": {
   "codemirror_mode": {
    "name": "ipython",
    "version": 3
   },
   "file_extension": ".py",
   "mimetype": "text/x-python",
   "name": "python",
   "nbconvert_exporter": "python",
   "pygments_lexer": "ipython3",
   "version": "3.7.6"
  }
 },
 "nbformat": 4,
 "nbformat_minor": 4
}
