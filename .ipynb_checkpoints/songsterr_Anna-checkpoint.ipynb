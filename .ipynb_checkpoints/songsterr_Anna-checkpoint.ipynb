{
 "cells": [
  {
   "cell_type": "code",
   "execution_count": null,
   "metadata": {},
   "outputs": [],
   "source": [
    "#The Songsterr API allows you to search, get and present songs and guitar tabs from\n",
    "# the Songsterr database. You can search by artist or song."
   ]
  },
  {
   "cell_type": "code",
   "execution_count": 1,
   "metadata": {
    "ExecuteTime": {
     "end_time": "2020-11-30T10:13:13.771204Z",
     "start_time": "2020-11-30T10:13:13.604331Z"
    }
   },
   "outputs": [],
   "source": [
    "import requests\n",
    "import json"
   ]
  },
  {
   "cell_type": "code",
   "execution_count": 5,
   "metadata": {
    "ExecuteTime": {
     "end_time": "2020-11-30T10:37:54.586717Z",
     "start_time": "2020-11-30T10:37:54.581728Z"
    }
   },
   "outputs": [],
   "source": [
    "def get_tabs(title, artist):\n",
    "    tabs_url = \"http://www.songsterr.com/a/wa/bestMatchForQueryString?s={}&a={}\"\n",
    "    # Whitespaces are replaced with \"%20\" as required by the API\n",
    "    # in order to make the link exploitable\n",
    "    url_format =  tabs_url.format(titolo.replace(\" \", \"%20\"), artist.replace(\" \", \"%20\"))\n",
    "    print(\"Link to tabs:\", url_format)\n",
    "    return None"
   ]
  },
  {
   "cell_type": "code",
   "execution_count": 6,
   "metadata": {
    "ExecuteTime": {
     "end_time": "2020-11-30T10:37:54.933129Z",
     "start_time": "2020-11-30T10:37:54.929168Z"
    }
   },
   "outputs": [
    {
     "name": "stdout",
     "output_type": "stream",
     "text": [
      "Link to tabs: http://www.songsterr.com/a/wa/bestMatchForQueryString?s=Stairway%20to%20heaven&a=Led%20Zeppelin\n"
     ]
    }
   ],
   "source": [
    "get_tabs(\"Stairway to heaven\", \"Led Zeppelin\")"
   ]
  }
 ],
 "metadata": {
  "kernelspec": {
   "display_name": "Python 3",
   "language": "python",
   "name": "python3"
  },
  "language_info": {
   "codemirror_mode": {
    "name": "ipython",
    "version": 3
   },
   "file_extension": ".py",
   "mimetype": "text/x-python",
   "name": "python",
   "nbconvert_exporter": "python",
   "pygments_lexer": "ipython3",
   "version": "3.7.6"
  }
 },
 "nbformat": 4,
 "nbformat_minor": 2
}
