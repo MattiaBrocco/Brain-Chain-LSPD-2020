{
 "cells": [
  {
   "cell_type": "code",
   "execution_count": 4,
   "metadata": {
    "ExecuteTime": {
     "end_time": "2020-11-30T14:19:14.246560Z",
     "start_time": "2020-11-30T14:19:13.517911Z"
    }
   },
   "outputs": [],
   "source": [
    "import requests\n",
    "import json"
   ]
  },
  {
   "cell_type": "code",
   "execution_count": 13,
   "metadata": {
    "ExecuteTime": {
     "end_time": "2020-11-30T14:22:03.770034Z",
     "start_time": "2020-11-30T14:22:03.762472Z"
    }
   },
   "outputs": [],
   "source": [
    "def get_lyric(artist, title):\n",
    "    \n",
    "    song_url = 'https://api.lyrics.ovh/v1/{}/{}'\n",
    "\n",
    "    url = song_url.format(artist, title)\n",
    "\n",
    "    lyrics_req = requests.get(url)\n",
    "    data = json.loads(lyrics_req.text)\n",
    "\n",
    "    try:\n",
    "        song = data['lyrics']\n",
    "        if len(song) == 0:\n",
    "            print(\"This song was not found\")\n",
    "        else:\n",
    "            print(\"{} by {}:\".format(title, artist))\n",
    "            print(\"{}\".format(song))\n",
    "    except TypeError:\n",
    "        pass\n",
    "\n",
    "    return song"
   ]
  }
 ],
 "metadata": {
  "kernelspec": {
   "display_name": "Python 3",
   "language": "python",
   "name": "python3"
  },
  "language_info": {
   "codemirror_mode": {
    "name": "ipython",
    "version": 3
   },
   "file_extension": ".py",
   "mimetype": "text/x-python",
   "name": "python",
   "nbconvert_exporter": "python",
   "pygments_lexer": "ipython3",
   "version": "3.7.6"
  }
 },
 "nbformat": 4,
 "nbformat_minor": 4
}
