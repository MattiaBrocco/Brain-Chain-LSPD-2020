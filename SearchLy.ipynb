{
 "cells": [
  {
   "cell_type": "code",
   "execution_count": 11,
   "metadata": {
    "ExecuteTime": {
     "end_time": "2020-11-29T15:07:28.030076Z",
     "start_time": "2020-11-29T15:07:28.021665Z"
    }
   },
   "outputs": [],
   "source": [
    "import json\n",
    "import requests"
   ]
  },
  {
   "cell_type": "code",
   "execution_count": 94,
   "metadata": {
    "ExecuteTime": {
     "end_time": "2020-11-29T16:01:13.930988Z",
     "start_time": "2020-11-29T16:01:13.912904Z"
    }
   },
   "outputs": [],
   "source": [
    "def similarity(song):\n",
    "    url = 'https://searchly.asuarez.dev/api/v1/song/search'\n",
    "\n",
    "    # Make the classify request\n",
    "    response = requests.get(url, params = {'query': song})\n",
    "\n",
    "    # The response is formatted in JSON\n",
    "    data = json.loads(response.text)\n",
    "    if data[\"error\"] == True:\n",
    "        print(\"Error in the request\")\n",
    "    else:\n",
    "        if len(data[\"response\"][\"results\"]) < 1:\n",
    "            # This is the case when the request is successful, but empty\n",
    "            print(\"Song not found\")\n",
    "        elif len(data[\"response\"][\"results\"]) > 1:\n",
    "            # If more than one result is found, we must let\n",
    "            # the user choose what to do by showing all the found results\n",
    "            print(\"More than one result found,\",\n",
    "                  \"if one of the following is what you are looking for,\",\n",
    "                  \"copy the corresponding line:\", sep=\"\\n\", end = \"\\n\\n\" )\n",
    "            for x in data[\"response\"][\"results\"]:\n",
    "                print( x[\"name\"] )\n",
    "        else:\n",
    "            # If only one result is found, with a certain degree\n",
    "            # of confidence, this is the right song!\n",
    "            song_id = data[\"response\"][\"results\"][0][\"id\"]\n",
    "            \n",
    "            # The API that looks for similar songs works with a song ID,\n",
    "            # retrieved the previous line of code\n",
    "            sim_url = 'https://searchly.asuarez.dev/api/v1/similarity/by_song'\n",
    "            sim_payload = {'song_id': song_id}\n",
    "\n",
    "            sim_response = requests.get(sim_url, params = sim_payload)\n",
    "\n",
    "            sim_data = json.loads(sim_response.text)\n",
    "            print(\"Listen to similar songs:\")\n",
    "            for x in sim_data[\"response\"][\"similarity_list\"]:\n",
    "                print(\"Title:\", x[\"song_name\"],\"| Artist:\", x[\"artist_name\"],\n",
    "                      \" | Similarity: \", x[\"percentage\"],\"%\")\n",
    "    return True"
   ]
  },
  {
   "cell_type": "code",
   "execution_count": 98,
   "metadata": {
    "ExecuteTime": {
     "end_time": "2020-11-29T16:05:07.246889Z",
     "start_time": "2020-11-29T16:05:05.020840Z"
    }
   },
   "outputs": [
    {
     "name": "stdout",
     "output_type": "stream",
     "text": [
      "Song not found\n"
     ]
    }
   ],
   "source": [
    "sid = similarity(\"tik tok kesha\")"
   ]
  }
 ],
 "metadata": {
  "kernelspec": {
   "display_name": "Python 3",
   "language": "python",
   "name": "python3"
  },
  "language_info": {
   "codemirror_mode": {
    "name": "ipython",
    "version": 3
   },
   "file_extension": ".py",
   "mimetype": "text/x-python",
   "name": "python",
   "nbconvert_exporter": "python",
   "pygments_lexer": "ipython3",
   "version": "3.7.6"
  }
 },
 "nbformat": 4,
 "nbformat_minor": 4
}
